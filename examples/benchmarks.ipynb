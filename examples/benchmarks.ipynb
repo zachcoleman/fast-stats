{
 "cells": [
  {
   "cell_type": "markdown",
   "metadata": {},
   "source": [
    "### Imports"
   ]
  },
  {
   "cell_type": "code",
   "execution_count": 1,
   "metadata": {},
   "outputs": [],
   "source": [
    "import fast_stats\n",
    "import numpy as np\n",
    "from sklearn.metrics import (\n",
    "    precision_score, \n",
    "    recall_score, \n",
    "    f1_score, \n",
    "    confusion_matrix\n",
    ")"
   ]
  },
  {
   "cell_type": "markdown",
   "metadata": {},
   "source": [
    "### Settings"
   ]
  },
  {
   "cell_type": "code",
   "execution_count": 2,
   "metadata": {},
   "outputs": [],
   "source": [
    "SIZE = (10, 512, 512)\n",
    "NUM_CATS = 8"
   ]
  },
  {
   "cell_type": "markdown",
   "metadata": {},
   "source": [
    "### Binary compared to scikit-learn"
   ]
  },
  {
   "cell_type": "code",
   "execution_count": 3,
   "metadata": {},
   "outputs": [],
   "source": [
    "y_true = np.random.randint(0, 2, SIZE).astype(bool).flatten()\n",
    "y_pred = np.random.randint(0, 2, SIZE).astype(bool).flatten()"
   ]
  },
  {
   "cell_type": "code",
   "execution_count": 4,
   "metadata": {},
   "outputs": [
    {
     "name": "stdout",
     "output_type": "stream",
     "text": [
      "569 ms ± 6.31 ms per loop (mean ± std. dev. of 7 runs, 1 loop each)\n"
     ]
    }
   ],
   "source": [
    "%%timeit\n",
    "_ = precision_score(y_true, y_pred)"
   ]
  },
  {
   "cell_type": "code",
   "execution_count": 5,
   "metadata": {},
   "outputs": [
    {
     "name": "stdout",
     "output_type": "stream",
     "text": [
      "566 ms ± 925 µs per loop (mean ± std. dev. of 7 runs, 1 loop each)\n"
     ]
    }
   ],
   "source": [
    "%%timeit\n",
    "_ = recall_score(y_true, y_pred)"
   ]
  },
  {
   "cell_type": "code",
   "execution_count": 6,
   "metadata": {},
   "outputs": [
    {
     "name": "stdout",
     "output_type": "stream",
     "text": [
      "567 ms ± 2.01 ms per loop (mean ± std. dev. of 7 runs, 1 loop each)\n"
     ]
    }
   ],
   "source": [
    "%%timeit\n",
    "_ = f1_score(y_true, y_pred)"
   ]
  },
  {
   "cell_type": "code",
   "execution_count": 7,
   "metadata": {},
   "outputs": [],
   "source": [
    "# don't need to flatten them for fast-stats\n",
    "y_true = np.random.randint(0, 2, SIZE).astype(bool)\n",
    "y_pred = np.random.randint(0, 2, SIZE).astype(bool)"
   ]
  },
  {
   "cell_type": "code",
   "execution_count": 8,
   "metadata": {},
   "outputs": [
    {
     "name": "stdout",
     "output_type": "stream",
     "text": [
      "3.91 ms ± 15 µs per loop (mean ± std. dev. of 7 runs, 100 loops each)\n"
     ]
    }
   ],
   "source": [
    "%%timeit\n",
    "_ = fast_stats.binary_precision(y_true, y_pred)"
   ]
  },
  {
   "cell_type": "code",
   "execution_count": 9,
   "metadata": {},
   "outputs": [
    {
     "name": "stdout",
     "output_type": "stream",
     "text": [
      "3.93 ms ± 23.3 µs per loop (mean ± std. dev. of 7 runs, 100 loops each)\n"
     ]
    }
   ],
   "source": [
    "%%timeit\n",
    "_ = fast_stats.binary_recall(y_true, y_pred)"
   ]
  },
  {
   "cell_type": "code",
   "execution_count": 10,
   "metadata": {},
   "outputs": [
    {
     "name": "stdout",
     "output_type": "stream",
     "text": [
      "4.42 ms ± 7.8 µs per loop (mean ± std. dev. of 7 runs, 100 loops each)\n"
     ]
    }
   ],
   "source": [
    "%%timeit\n",
    "_ = fast_stats.binary_f1_score(y_true, y_pred)"
   ]
  },
  {
   "cell_type": "code",
   "execution_count": 11,
   "metadata": {},
   "outputs": [],
   "source": [
    "assert np.allclose(\n",
    "    fast_stats.binary_precision(y_true, y_pred),\n",
    "    precision_score(y_true.flatten(), y_pred.flatten())\n",
    ")\n",
    "assert np.allclose(\n",
    "    fast_stats.binary_recall(y_true, y_pred),\n",
    "    recall_score(y_true.flatten(), y_pred.flatten())\n",
    ")\n",
    "assert np.allclose(\n",
    "    fast_stats.binary_f1_score(y_true, y_pred),\n",
    "    f1_score(y_true.flatten(), y_pred.flatten())\n",
    ")"
   ]
  },
  {
   "cell_type": "markdown",
   "metadata": {},
   "source": [
    "### Binary compared to numpy"
   ]
  },
  {
   "cell_type": "code",
   "execution_count": 12,
   "metadata": {},
   "outputs": [],
   "source": [
    "y_true, y_pred = y_true.astype(bool), y_pred.astype(bool)"
   ]
  },
  {
   "cell_type": "code",
   "execution_count": 13,
   "metadata": {},
   "outputs": [
    {
     "name": "stdout",
     "output_type": "stream",
     "text": [
      "4.49 ms ± 14.2 µs per loop (mean ± std. dev. of 7 runs, 100 loops each)\n"
     ]
    }
   ],
   "source": [
    "%%timeit\n",
    "_ = np.logical_and(y_true, y_pred).sum() / y_pred.sum()"
   ]
  },
  {
   "cell_type": "code",
   "execution_count": 14,
   "metadata": {},
   "outputs": [
    {
     "name": "stdout",
     "output_type": "stream",
     "text": [
      "3.91 ms ± 3.14 µs per loop (mean ± std. dev. of 7 runs, 100 loops each)\n"
     ]
    }
   ],
   "source": [
    "%%timeit\n",
    "_ = fast_stats.binary_precision(y_true, y_pred)"
   ]
  },
  {
   "cell_type": "markdown",
   "metadata": {},
   "source": [
    "### Multiclass compared to sklearn"
   ]
  },
  {
   "cell_type": "code",
   "execution_count": 15,
   "metadata": {},
   "outputs": [],
   "source": [
    "y_true = np.random.randint(0, NUM_CATS, SIZE)\n",
    "y_pred = np.random.randint(0, NUM_CATS, SIZE)"
   ]
  },
  {
   "cell_type": "code",
   "execution_count": 16,
   "metadata": {},
   "outputs": [
    {
     "name": "stdout",
     "output_type": "stream",
     "text": [
      "677 ms ± 1.75 ms per loop (mean ± std. dev. of 7 runs, 1 loop each)\n"
     ]
    }
   ],
   "source": [
    "%%timeit\n",
    "_ = precision_score(\n",
    "    y_true.reshape(-1), \n",
    "    y_pred.reshape(-1), \n",
    "    labels=list(range(NUM_CATS)), \n",
    "    average=None\n",
    ")"
   ]
  },
  {
   "cell_type": "code",
   "execution_count": 17,
   "metadata": {},
   "outputs": [
    {
     "name": "stdout",
     "output_type": "stream",
     "text": [
      "56.7 ms ± 831 µs per loop (mean ± std. dev. of 7 runs, 10 loops each)\n"
     ]
    }
   ],
   "source": [
    "%%timeit\n",
    "tmp = fast_stats.precision(\n",
    "    y_true,\n",
    "    y_pred,\n",
    "    list(range(NUM_CATS)),\n",
    ")"
   ]
  },
  {
   "cell_type": "code",
   "execution_count": 18,
   "metadata": {},
   "outputs": [],
   "source": [
    "assert np.allclose(\n",
    "    precision_score(\n",
    "        y_true.reshape(-1), \n",
    "        y_pred.reshape(-1), \n",
    "        labels=list(range(NUM_CATS)), \n",
    "        average=None\n",
    "    ),\n",
    "    fast_stats.precision(\n",
    "        y_true,\n",
    "        y_pred,\n",
    "        list(range(NUM_CATS)),\n",
    "    )\n",
    ")"
   ]
  },
  {
   "cell_type": "code",
   "execution_count": 19,
   "metadata": {},
   "outputs": [
    {
     "name": "stdout",
     "output_type": "stream",
     "text": [
      "686 ms ± 5.95 ms per loop (mean ± std. dev. of 7 runs, 1 loop each)\n"
     ]
    }
   ],
   "source": [
    "%%timeit\n",
    "_ = recall_score(\n",
    "    y_true.reshape(-1), \n",
    "    y_pred.reshape(-1), \n",
    "    labels=list(range(NUM_CATS)), \n",
    "    average=None\n",
    ")"
   ]
  },
  {
   "cell_type": "code",
   "execution_count": 20,
   "metadata": {},
   "outputs": [
    {
     "name": "stdout",
     "output_type": "stream",
     "text": [
      "57 ms ± 1.31 ms per loop (mean ± std. dev. of 7 runs, 10 loops each)\n"
     ]
    }
   ],
   "source": [
    "%%timeit\n",
    "tmp = fast_stats.recall(\n",
    "    y_true,\n",
    "    y_pred,\n",
    "    np.array(list(range(NUM_CATS)), dtype=y_true.dtype)\n",
    ")"
   ]
  },
  {
   "cell_type": "code",
   "execution_count": 21,
   "metadata": {},
   "outputs": [],
   "source": [
    "assert np.allclose(\n",
    "    recall_score(\n",
    "        y_true.reshape(-1), \n",
    "        y_pred.reshape(-1), \n",
    "        labels=list(range(NUM_CATS)), \n",
    "        average=None\n",
    "    ),\n",
    "    fast_stats.recall(\n",
    "        y_true,\n",
    "        y_pred,\n",
    "        list(range(NUM_CATS)),\n",
    "    )\n",
    ")"
   ]
  },
  {
   "cell_type": "code",
   "execution_count": 22,
   "metadata": {},
   "outputs": [
    {
     "name": "stdout",
     "output_type": "stream",
     "text": [
      "684 ms ± 6.28 ms per loop (mean ± std. dev. of 7 runs, 1 loop each)\n"
     ]
    }
   ],
   "source": [
    "%%timeit\n",
    "_ = f1_score(\n",
    "    y_true.reshape(-1), \n",
    "    y_pred.reshape(-1), \n",
    "    labels=list(range(NUM_CATS)), \n",
    "    average=None\n",
    ")"
   ]
  },
  {
   "cell_type": "code",
   "execution_count": 23,
   "metadata": {},
   "outputs": [
    {
     "name": "stdout",
     "output_type": "stream",
     "text": [
      "56.7 ms ± 679 µs per loop (mean ± std. dev. of 7 runs, 10 loops each)\n"
     ]
    }
   ],
   "source": [
    "%%timeit\n",
    "tmp = fast_stats.f1_score(\n",
    "    y_true,\n",
    "    y_pred,\n",
    "    np.array(list(range(NUM_CATS)), dtype=y_true.dtype)\n",
    ")"
   ]
  },
  {
   "cell_type": "markdown",
   "metadata": {},
   "source": [
    "#### Comparing averaging strategies"
   ]
  },
  {
   "cell_type": "code",
   "execution_count": 24,
   "metadata": {},
   "outputs": [],
   "source": [
    "assert np.allclose(\n",
    "    f1_score(\n",
    "        y_true.reshape(-1), \n",
    "        y_pred.reshape(-1), \n",
    "        labels=list(range(NUM_CATS)), \n",
    "        average=None\n",
    "    ),\n",
    "    fast_stats.f1_score(\n",
    "        y_true,\n",
    "        y_pred,\n",
    "        list(range(NUM_CATS)),\n",
    "    )\n",
    ")"
   ]
  },
  {
   "cell_type": "code",
   "execution_count": 25,
   "metadata": {},
   "outputs": [],
   "source": [
    "assert np.allclose(\n",
    "    f1_score(\n",
    "        y_true.reshape(-1), \n",
    "        y_pred.reshape(-1), \n",
    "        labels=list(range(NUM_CATS)), \n",
    "        average=\"micro\"\n",
    "    ),\n",
    "    fast_stats.f1_score(\n",
    "        y_true,\n",
    "        y_pred,\n",
    "        list(range(NUM_CATS)),\n",
    "        average=\"micro\"\n",
    "    )\n",
    ")"
   ]
  },
  {
   "cell_type": "code",
   "execution_count": 26,
   "metadata": {},
   "outputs": [],
   "source": [
    "assert np.allclose(\n",
    "    f1_score(\n",
    "        y_true.reshape(-1), \n",
    "        y_pred.reshape(-1), \n",
    "        labels=list(range(NUM_CATS)), \n",
    "        average=\"macro\"\n",
    "    ),\n",
    "    fast_stats.f1_score(\n",
    "        y_true,\n",
    "        y_pred,\n",
    "        list(range(NUM_CATS)),\n",
    "        average=\"macro\"\n",
    "    )\n",
    ")"
   ]
  },
  {
   "cell_type": "markdown",
   "metadata": {},
   "source": [
    "### Confusion matrix compared to sklearn"
   ]
  },
  {
   "cell_type": "code",
   "execution_count": 27,
   "metadata": {},
   "outputs": [],
   "source": [
    "y_true = np.random.randint(0, NUM_CATS, SIZE).flatten()\n",
    "y_pred = np.random.randint(0, NUM_CATS, SIZE).flatten()"
   ]
  },
  {
   "cell_type": "code",
   "execution_count": 28,
   "metadata": {},
   "outputs": [
    {
     "name": "stdout",
     "output_type": "stream",
     "text": [
      "258 ms ± 4.25 ms per loop (mean ± std. dev. of 7 runs, 1 loop each)\n"
     ]
    }
   ],
   "source": [
    "%%timeit\n",
    "_ = confusion_matrix(y_true, y_pred)"
   ]
  },
  {
   "cell_type": "code",
   "execution_count": 29,
   "metadata": {},
   "outputs": [
    {
     "name": "stdout",
     "output_type": "stream",
     "text": [
      "133 ms ± 1.44 ms per loop (mean ± std. dev. of 7 runs, 10 loops each)\n"
     ]
    }
   ],
   "source": [
    "%%timeit\n",
    "# while labels is optional argument providing\n",
    "# labels will lead to a significant speedup\n",
    "# since it will not have to be inferred\n",
    "_ = confusion_matrix(y_true, y_pred, labels = list(range(NUM_CATS)))"
   ]
  },
  {
   "cell_type": "code",
   "execution_count": 30,
   "metadata": {},
   "outputs": [],
   "source": [
    "# don't need to flatten them for fast-stats, \n",
    "# this is another point for speedup depending on use-case\n",
    "y_true = np.random.randint(0, NUM_CATS, SIZE)\n",
    "y_pred = np.random.randint(0, NUM_CATS, SIZE)"
   ]
  },
  {
   "cell_type": "code",
   "execution_count": 31,
   "metadata": {},
   "outputs": [
    {
     "name": "stdout",
     "output_type": "stream",
     "text": [
      "107 ms ± 1.25 ms per loop (mean ± std. dev. of 7 runs, 10 loops each)\n"
     ]
    }
   ],
   "source": [
    "%%timeit\n",
    "_ = fast_stats.confusion_matrix(y_true, y_pred)"
   ]
  },
  {
   "cell_type": "code",
   "execution_count": 32,
   "metadata": {},
   "outputs": [
    {
     "name": "stdout",
     "output_type": "stream",
     "text": [
      "57.5 ms ± 669 µs per loop (mean ± std. dev. of 7 runs, 10 loops each)\n"
     ]
    }
   ],
   "source": [
    "%%timeit\n",
    "# while labels is optional argument providing\n",
    "# labels will lead to a significant speedup\n",
    "# since it will not have to be inferred\n",
    "_ = fast_stats.confusion_matrix(y_true, y_pred, labels = list(range(NUM_CATS)))"
   ]
  },
  {
   "cell_type": "code",
   "execution_count": 33,
   "metadata": {},
   "outputs": [],
   "source": [
    "assert np.allclose(\n",
    "    confusion_matrix(y_true.flatten(), y_pred.flatten(), labels = list(range(NUM_CATS))),\n",
    "    fast_stats.confusion_matrix(y_true, y_pred)\n",
    ")"
   ]
  },
  {
   "cell_type": "markdown",
   "metadata": {},
   "source": [
    "### Effect of flattening or reshaping for scikit-learn"
   ]
  },
  {
   "cell_type": "code",
   "execution_count": 34,
   "metadata": {},
   "outputs": [],
   "source": [
    "mat = np.random.randint(0, NUM_CATS, SIZE)"
   ]
  },
  {
   "cell_type": "code",
   "execution_count": 35,
   "metadata": {},
   "outputs": [
    {
     "name": "stdout",
     "output_type": "stream",
     "text": [
      "1.7 ms ± 27.7 µs per loop (mean ± std. dev. of 7 runs, 1,000 loops each)\n"
     ]
    }
   ],
   "source": [
    "%%timeit\n",
    "_ = mat.flatten()"
   ]
  },
  {
   "cell_type": "code",
   "execution_count": 36,
   "metadata": {},
   "outputs": [
    {
     "name": "stdout",
     "output_type": "stream",
     "text": [
      "107 ns ± 0.273 ns per loop (mean ± std. dev. of 7 runs, 10,000,000 loops each)\n"
     ]
    }
   ],
   "source": [
    "%%timeit\n",
    "_ = mat.reshape(-1)"
   ]
  }
 ],
 "metadata": {
  "kernelspec": {
   "display_name": ".venv",
   "language": "python",
   "name": "python3"
  },
  "language_info": {
   "codemirror_mode": {
    "name": "ipython",
    "version": 3
   },
   "file_extension": ".py",
   "mimetype": "text/x-python",
   "name": "python",
   "nbconvert_exporter": "python",
   "pygments_lexer": "ipython3",
   "version": "3.10.8"
  },
  "orig_nbformat": 4,
  "vscode": {
   "interpreter": {
    "hash": "2994604185f86bc96c0c5cb0b57fabd703f5f0106f9413ed938cdec2350fab6e"
   }
  }
 },
 "nbformat": 4,
 "nbformat_minor": 2
}
