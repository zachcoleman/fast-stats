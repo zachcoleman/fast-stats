{
 "cells": [
  {
   "cell_type": "markdown",
   "metadata": {},
   "source": [
    "### Imports"
   ]
  },
  {
   "cell_type": "code",
   "execution_count": 1,
   "metadata": {},
   "outputs": [],
   "source": [
    "import numpy as np\n",
    "import pandas as pd\n",
    "import fast_stats"
   ]
  },
  {
   "cell_type": "markdown",
   "metadata": {},
   "source": [
    "### Settings"
   ]
  },
  {
   "cell_type": "code",
   "execution_count": 2,
   "metadata": {},
   "outputs": [],
   "source": [
    "SIZE = (10, 512, 512)\n",
    "NUM_CATS = 8"
   ]
  },
  {
   "cell_type": "markdown",
   "metadata": {},
   "source": [
    "### Binary Statistics"
   ]
  },
  {
   "cell_type": "code",
   "execution_count": 3,
   "metadata": {},
   "outputs": [],
   "source": [
    "y_true = np.random.randint(0, 2, SIZE).astype(bool)\n",
    "y_pred = np.random.randint(0, 2, SIZE).astype(bool)"
   ]
  },
  {
   "cell_type": "code",
   "execution_count": 4,
   "metadata": {},
   "outputs": [
    {
     "data": {
      "text/plain": [
       "{'precision': 0.49997291558742274,\n",
       " 'recall': 0.4999755857512341,\n",
       " 'f1-score': 0.4999742506657633}"
      ]
     },
     "execution_count": 4,
     "metadata": {},
     "output_type": "execute_result"
    }
   ],
   "source": [
    "fast_stats.binary_stats(y_true, y_pred)"
   ]
  },
  {
   "cell_type": "markdown",
   "metadata": {},
   "source": [
    "### Multi-class Statistics"
   ]
  },
  {
   "cell_type": "code",
   "execution_count": 5,
   "metadata": {},
   "outputs": [],
   "source": [
    "y_true = np.random.randint(0, NUM_CATS, SIZE)\n",
    "y_pred = np.random.randint(0, NUM_CATS, SIZE)"
   ]
  },
  {
   "cell_type": "code",
   "execution_count": 6,
   "metadata": {},
   "outputs": [
    {
     "data": {
      "text/plain": [
       "{'precision': array([0.12462003, 0.1254621 , 0.1250603 , 0.12443714, 0.12611127,\n",
       "        0.1245599 , 0.12519658, 0.12590499]),\n",
       " 'recall': array([0.12497745, 0.12492857, 0.12564759, 0.12429353, 0.12595279,\n",
       "        0.12490906, 0.12502554, 0.12561796]),\n",
       " 'f1-score': array([0.12479849, 0.12519476, 0.12535326, 0.12436529, 0.12603198,\n",
       "        0.12473424, 0.125111  , 0.12576131]),\n",
       " 'labels': array([0, 1, 2, 3, 4, 5, 6, 7]),\n",
       " 'support': array([327051, 328980, 326015, 328392, 327853, 327134, 327917, 328098])}"
      ]
     },
     "execution_count": 6,
     "metadata": {},
     "output_type": "execute_result"
    }
   ],
   "source": [
    "fast_stats.stats(y_true, y_pred)"
   ]
  },
  {
   "cell_type": "code",
   "execution_count": 7,
   "metadata": {},
   "outputs": [
    {
     "data": {
      "text/html": [
       "<div>\n",
       "<style scoped>\n",
       "    .dataframe tbody tr th:only-of-type {\n",
       "        vertical-align: middle;\n",
       "    }\n",
       "\n",
       "    .dataframe tbody tr th {\n",
       "        vertical-align: top;\n",
       "    }\n",
       "\n",
       "    .dataframe thead th {\n",
       "        text-align: right;\n",
       "    }\n",
       "</style>\n",
       "<table border=\"1\" class=\"dataframe\">\n",
       "  <thead>\n",
       "    <tr style=\"text-align: right;\">\n",
       "      <th></th>\n",
       "      <th>precision</th>\n",
       "      <th>recall</th>\n",
       "      <th>f1-score</th>\n",
       "      <th>labels</th>\n",
       "      <th>support</th>\n",
       "    </tr>\n",
       "  </thead>\n",
       "  <tbody>\n",
       "    <tr>\n",
       "      <th>0</th>\n",
       "      <td>0.124620</td>\n",
       "      <td>0.124977</td>\n",
       "      <td>0.124798</td>\n",
       "      <td>0</td>\n",
       "      <td>327051</td>\n",
       "    </tr>\n",
       "    <tr>\n",
       "      <th>1</th>\n",
       "      <td>0.125462</td>\n",
       "      <td>0.124929</td>\n",
       "      <td>0.125195</td>\n",
       "      <td>1</td>\n",
       "      <td>328980</td>\n",
       "    </tr>\n",
       "    <tr>\n",
       "      <th>2</th>\n",
       "      <td>0.125060</td>\n",
       "      <td>0.125648</td>\n",
       "      <td>0.125353</td>\n",
       "      <td>2</td>\n",
       "      <td>326015</td>\n",
       "    </tr>\n",
       "    <tr>\n",
       "      <th>3</th>\n",
       "      <td>0.124437</td>\n",
       "      <td>0.124294</td>\n",
       "      <td>0.124365</td>\n",
       "      <td>3</td>\n",
       "      <td>328392</td>\n",
       "    </tr>\n",
       "    <tr>\n",
       "      <th>4</th>\n",
       "      <td>0.126111</td>\n",
       "      <td>0.125953</td>\n",
       "      <td>0.126032</td>\n",
       "      <td>4</td>\n",
       "      <td>327853</td>\n",
       "    </tr>\n",
       "    <tr>\n",
       "      <th>5</th>\n",
       "      <td>0.124560</td>\n",
       "      <td>0.124909</td>\n",
       "      <td>0.124734</td>\n",
       "      <td>5</td>\n",
       "      <td>327134</td>\n",
       "    </tr>\n",
       "    <tr>\n",
       "      <th>6</th>\n",
       "      <td>0.125197</td>\n",
       "      <td>0.125026</td>\n",
       "      <td>0.125111</td>\n",
       "      <td>6</td>\n",
       "      <td>327917</td>\n",
       "    </tr>\n",
       "    <tr>\n",
       "      <th>7</th>\n",
       "      <td>0.125905</td>\n",
       "      <td>0.125618</td>\n",
       "      <td>0.125761</td>\n",
       "      <td>7</td>\n",
       "      <td>328098</td>\n",
       "    </tr>\n",
       "  </tbody>\n",
       "</table>\n",
       "</div>"
      ],
      "text/plain": [
       "   precision    recall  f1-score  labels  support\n",
       "0   0.124620  0.124977  0.124798       0   327051\n",
       "1   0.125462  0.124929  0.125195       1   328980\n",
       "2   0.125060  0.125648  0.125353       2   326015\n",
       "3   0.124437  0.124294  0.124365       3   328392\n",
       "4   0.126111  0.125953  0.126032       4   327853\n",
       "5   0.124560  0.124909  0.124734       5   327134\n",
       "6   0.125197  0.125026  0.125111       6   327917\n",
       "7   0.125905  0.125618  0.125761       7   328098"
      ]
     },
     "execution_count": 7,
     "metadata": {},
     "output_type": "execute_result"
    }
   ],
   "source": [
    "pd.DataFrame(fast_stats.stats(y_true, y_pred))"
   ]
  }
 ],
 "metadata": {
  "kernelspec": {
   "display_name": ".venv",
   "language": "python",
   "name": "python3"
  },
  "language_info": {
   "codemirror_mode": {
    "name": "ipython",
    "version": 3
   },
   "file_extension": ".py",
   "mimetype": "text/x-python",
   "name": "python",
   "nbconvert_exporter": "python",
   "pygments_lexer": "ipython3",
   "version": "3.10.8"
  },
  "vscode": {
   "interpreter": {
    "hash": "2994604185f86bc96c0c5cb0b57fabd703f5f0106f9413ed938cdec2350fab6e"
   }
  }
 },
 "nbformat": 4,
 "nbformat_minor": 2
}
